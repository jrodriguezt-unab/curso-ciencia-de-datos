{
 "cells": [
  {
   "cell_type": "markdown",
   "id": "df90573d-3828-422c-be0f-0b9b76f1a0a7",
   "metadata": {},
   "source": [
    "# Data Science Tools and Ecosystem"
   ]
  },
  {
   "cell_type": "markdown",
   "id": "ac17830d-5eaa-4ea4-913d-bb855f6a16a1",
   "metadata": {},
   "source": [
    "En este cuaderno, se resumen las herramientas y ecosistemas de ciencia de datos."
   ]
  },
  {
   "cell_type": "markdown",
   "id": "ddd27f88-0ef1-47e8-bf6c-fe05cde1c089",
   "metadata": {},
   "source": [
    "**Objetivos:**\n",
    "\n",
    "* Creación y edición de celdas markdown\n",
    "* Listar lenguajes populares para Ciencia de Datos\n",
    "* Lista bibliotecas utilizadas en la Ciencia de Datos\n",
    "* Realizar operaciones matemáticas básicas"
   ]
  },
  {
   "cell_type": "markdown",
   "id": "6ba16a39-978e-40b1-97df-f962137a004c",
   "metadata": {},
   "source": [
    "Algunos de los lenguajes populares que utilizan los científicos de datos son:\n",
    "\n",
    "1. Python\n",
    "2. R\n",
    "3. SQL\n",
    "4. JavaScript\n",
    "5. PHP"
   ]
  },
  {
   "cell_type": "markdown",
   "id": "50185383-e475-468a-bdfa-b2e38fe50d7b",
   "metadata": {},
   "source": [
    "Algunas de las bibliotecas comúnmente utilizadas por los científicos de datos incluyen:\n",
    "\n",
    "1. Pandas\n",
    "2. NumPy\n",
    "3. Matplotlib\n",
    "4. Seaborn"
   ]
  },
  {
   "cell_type": "markdown",
   "id": "3745078a-f723-4766-b986-e25f45f27bea",
   "metadata": {},
   "source": [
    "| Herramientas de Ciencia de Datos | \n",
    "|-----------|\n",
    "| MySQL     |\n",
    "| Apache AirFlow    |\n",
    "| Watson Studio     |"
   ]
  },
  {
   "cell_type": "markdown",
   "id": "724ed984-a47f-4090-b909-716b54123f38",
   "metadata": {},
   "source": [
    "### A continuación, se presentan algunos ejemplos de evaluación de expresiones aritméticas en Python."
   ]
  },
  {
   "cell_type": "code",
   "execution_count": 7,
   "id": "91867bed-32af-41f5-a7a0-1fdb3d368d90",
   "metadata": {},
   "outputs": [
    {
     "data": {
      "text/plain": [
       "17"
      ]
     },
     "execution_count": 7,
     "metadata": {},
     "output_type": "execute_result"
    }
   ],
   "source": [
    "# Esta es una expresión aritmética simple para multiplicar y luego sumar enteros.\n",
    "\n",
    "(3*4)+5"
   ]
  },
  {
   "cell_type": "code",
   "execution_count": 8,
   "id": "bf8f2aed-2712-4672-8f32-00d13b79800f",
   "metadata": {},
   "outputs": [
    {
     "data": {
      "text/plain": [
       "3.3333333333333335"
      ]
     },
     "execution_count": 8,
     "metadata": {},
     "output_type": "execute_result"
    }
   ],
   "source": [
    "# Esto convertirá 200 minutos a horas dividiendo por 60\n",
    "\n",
    "horas = 200/60\n",
    "horas"
   ]
  },
  {
   "cell_type": "markdown",
   "id": "926f3f70-4ce4-4dbc-931a-280c4bd269fc",
   "metadata": {},
   "source": [
    "## Autor\n",
    "---\n",
    "Jesus E. Rodriguez Torres"
   ]
  },
  {
   "cell_type": "code",
   "execution_count": null,
   "id": "50a59181-13ec-4024-a10b-d63ace2d9c5b",
   "metadata": {},
   "outputs": [],
   "source": []
  }
 ],
 "metadata": {
  "kernelspec": {
   "display_name": "Python 3 (ipykernel)",
   "language": "python",
   "name": "python3"
  },
  "language_info": {
   "codemirror_mode": {
    "name": "ipython",
    "version": 3
   },
   "file_extension": ".py",
   "mimetype": "text/x-python",
   "name": "python",
   "nbconvert_exporter": "python",
   "pygments_lexer": "ipython3",
   "version": "3.12.9"
  }
 },
 "nbformat": 4,
 "nbformat_minor": 5
}
